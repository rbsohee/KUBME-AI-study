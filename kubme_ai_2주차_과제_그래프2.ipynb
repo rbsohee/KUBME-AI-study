{
  "nbformat": 4,
  "nbformat_minor": 0,
  "metadata": {
    "colab": {
      "name": "kubme ai 2주차 과제 그래프2.ipynb",
      "provenance": [],
      "authorship_tag": "ABX9TyN5yvIvKORiu9g0PlnWCnBn",
      "include_colab_link": true
    },
    "kernelspec": {
      "name": "python3",
      "display_name": "Python 3"
    }
  },
  "cells": [
    {
      "cell_type": "markdown",
      "metadata": {
        "id": "view-in-github",
        "colab_type": "text"
      },
      "source": [
        "<a href=\"https://colab.research.google.com/github/rbsohee/-2-1/blob/master/kubme_ai_2%EC%A3%BC%EC%B0%A8_%EA%B3%BC%EC%A0%9C_%EA%B7%B8%EB%9E%98%ED%94%842.ipynb\" target=\"_parent\"><img src=\"https://colab.research.google.com/assets/colab-badge.svg\" alt=\"Open In Colab\"/></a>"
      ]
    },
    {
      "cell_type": "code",
      "metadata": {
        "id": "vmpHkVMHy6Fx",
        "colab_type": "code",
        "colab": {}
      },
      "source": [
        "import torch\n",
        "import torch.nn as nn\n",
        "import torch.optim as optim\n",
        "import torch.nn.init as init"
      ],
      "execution_count": 0,
      "outputs": []
    },
    {
      "cell_type": "code",
      "metadata": {
        "id": "9WwI0jnhzDmo",
        "colab_type": "code",
        "colab": {}
      },
      "source": [
        "num_data = 1000\n",
        "num_epoch = 10000"
      ],
      "execution_count": 0,
      "outputs": []
    },
    {
      "cell_type": "code",
      "metadata": {
        "id": "G1A7k5kGzEw4",
        "colab_type": "code",
        "colab": {}
      },
      "source": [
        "noise = init.normal_(torch.FloatTensor(num_data,1), std=3)\n",
        "x = init.uniform_(torch.Tensor(num_data,1),-15,15)"
      ],
      "execution_count": 0,
      "outputs": []
    },
    {
      "cell_type": "code",
      "metadata": {
        "id": "_DuP0beLzF-7",
        "colab_type": "code",
        "colab": {}
      },
      "source": [
        "y = x**2 + x\n",
        "y_noise = y + noise"
      ],
      "execution_count": 0,
      "outputs": []
    },
    {
      "cell_type": "code",
      "metadata": {
        "id": "bYCUbhy7zIx_",
        "colab_type": "code",
        "colab": {}
      },
      "source": [
        "model = nn.Sequential(\n",
        "    nn.Linear(1,5),\n",
        "    nn.ReLU(),\n",
        "    nn.Linear(5,8),\n",
        "    nn.ReLU(),\n",
        "    nn.Linear(8,8),\n",
        "    nn.ReLU(),\n",
        "    nn.Linear(8,5),\n",
        "    nn.ReLU(),   \n",
        "    nn.Linear(5,1)\n",
        ")"
      ],
      "execution_count": 0,
      "outputs": []
    },
    {
      "cell_type": "code",
      "metadata": {
        "id": "jfhikE1TzMbd",
        "colab_type": "code",
        "colab": {}
      },
      "source": [
        "loss_func = nn.MSELoss()\n",
        "optimizer = optim.Adam(model.parameters(), lr = 0.0005)"
      ],
      "execution_count": 0,
      "outputs": []
    },
    {
      "cell_type": "code",
      "metadata": {
        "id": "Ji8KCvNxzXJb",
        "colab_type": "code",
        "colab": {}
      },
      "source": [
        "loss_array = []\n",
        "for i in range(num_epoch):\n",
        "  optimizer.zero_grad()\n",
        "  output = model(x)\n",
        "  loss = loss_func(output, y_noise)\n",
        "  loss.backward()\n",
        "  optimizer.step()\n",
        "\n",
        "  loss_array.append(loss)"
      ],
      "execution_count": 0,
      "outputs": []
    },
    {
      "cell_type": "code",
      "metadata": {
        "id": "HxR2E7drzcdE",
        "colab_type": "code",
        "colab": {
          "base_uri": "https://localhost:8080/",
          "height": 265
        },
        "outputId": "29c46318-6166-4963-b6fb-1a85d31b8b4b"
      },
      "source": [
        "import matplotlib.pyplot as plt\n",
        "\n",
        "plt.plot(loss_array)\n",
        "plt.show()"
      ],
      "execution_count": 16,
      "outputs": [
        {
          "output_type": "display_data",
          "data": {
            "image/png": "[encoded data removed]",
            "text/plain": [
              "<Figure size 432x288 with 1 Axes>"
            ]
          },
          "metadata": {
            "tags": []
          }
        }
      ]
    },
    {
      "cell_type": "code",
      "metadata": {
        "id": "XcbykbQ0zecv",
        "colab_type": "code",
        "colab": {}
      },
      "source": [
        "num_data = 1000\n",
        "\n",
        "test_x = init.uniform_(torch.Tensor(num_data, 1), -15,15)\n",
        "test_y = model(test_x)"
      ],
      "execution_count": 0,
      "outputs": []
    },
    {
      "cell_type": "code",
      "metadata": {
        "id": "Bgrum8BMznSb",
        "colab_type": "code",
        "colab": {
          "base_uri": "https://localhost:8080/",
          "height": 281
        },
        "outputId": "b7b049a1-bc54-4d46-d112-1122e5c20b7e"
      },
      "source": [
        "plt.plot(test_x.data, test_y.data, 'rx')\n",
        "plt.plot(x.data, y.data, 'k.')\n",
        "plt.legend(['test data', 'real data'])\n",
        "plt.title('after training')\n",
        "plt.grid(True)\n",
        "plt.show()"
      ],
      "execution_count": 18,
      "outputs": [
        {
          "output_type": "display_data",
          "data": {
            "image/png": "[encoded data removed]",
            "text/plain": [
              "<Figure size 432x288 with 1 Axes>"
            ]
          },
          "metadata": {
            "tags": []
          }
        }
      ]
    },
    {
      "cell_type": "code",
      "metadata": {
        "id": "bUZyyEVuzo3w",
        "colab_type": "code",
        "colab": {}
      },
      "source": [
        ""
      ],
      "execution_count": 0,
      "outputs": []
    }
  ]
}